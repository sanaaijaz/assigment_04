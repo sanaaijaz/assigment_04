{
  "nbformat": 4,
  "nbformat_minor": 0,
  "metadata": {
    "colab": {
      "provenance": [],
      "authorship_tag": "ABX9TyNat4T2f3bJ7aNbamX/iphz",
      "include_colab_link": true
    },
    "kernelspec": {
      "name": "python3",
      "display_name": "Python 3"
    },
    "language_info": {
      "name": "python"
    }
  },
  "cells": [
    {
      "cell_type": "markdown",
      "metadata": {
        "id": "view-in-github",
        "colab_type": "text"
      },
      "source": [
        "<a href=\"https://colab.research.google.com/github/sanaaijaz/assigment_04/blob/main/02_list.ipynb\" target=\"_parent\"><img src=\"https://colab.research.google.com/assets/colab-badge.svg\" alt=\"Open In Colab\"/></a>"
      ]
    },
    {
      "cell_type": "code",
      "execution_count": 2,
      "metadata": {
        "colab": {
          "base_uri": "https://localhost:8080/"
        },
        "id": "tJZ2gbETYS0e",
        "outputId": "f40c13d9-8c53-41c0-c618-46fbaf2ceb39"
      },
      "outputs": [
        {
          "output_type": "stream",
          "name": "stdout",
          "text": [
            "01_add_many_number\n",
            "15\n"
          ]
        }
      ],
      "source": [
        "print(\"01_add_many_number\")\n",
        "\n",
        "def add_number(numbers) -> int:\n",
        "    num = 0\n",
        "    for i in numbers:\n",
        "        num += i\n",
        "    return num  # Return after the loop ends\n",
        "\n",
        "def main():\n",
        "    numbers: list[int] = [1, 2, 3, 4, 5]\n",
        "    total = add_number(numbers)\n",
        "    print(total)\n",
        "\n",
        "if __name__ == \"__main__\":\n",
        "    main()\n"
      ]
    },
    {
      "cell_type": "code",
      "source": [
        "print(\"02_double_list\")\n",
        "\n",
        "def main():\n",
        "    numbers = [1, 2, 3, 4, 5]  # Define the list before the loop\n",
        "    for i in range(len(numbers)):\n",
        "        index = numbers[i]\n",
        "        numbers[i] = index * 2\n",
        "    print(numbers)  # Moved outside the loop for final result\n",
        "\n",
        "if __name__ == \"__main__\":\n",
        "    main()\n"
      ],
      "metadata": {
        "colab": {
          "base_uri": "https://localhost:8080/"
        },
        "id": "0wd--84Wa9eD",
        "outputId": "115d4e8f-ab6d-4b4a-ccfd-fea029be55e2"
      },
      "execution_count": 5,
      "outputs": [
        {
          "output_type": "stream",
          "name": "stdout",
          "text": [
            "02_double_list\n",
            "[2, 4, 6, 8, 10]\n"
          ]
        }
      ]
    },
    {
      "cell_type": "code",
      "source": [
        "print(\"04_flowing_with_data_structures\")\n",
        "\n",
        "def add_three_copies(lst, data):\n",
        "    for i in range(3):\n",
        "        lst.append(data)\n",
        "\n",
        "def main():\n",
        "    message = input(\"Enter a message to copy: \")\n",
        "    lst = []\n",
        "    print(\"Before list:\", lst)\n",
        "    add_three_copies(lst, message)\n",
        "    print(\"After list:\", lst)\n",
        "\n",
        "if __name__ == \"__main__\":\n",
        "    main()\n"
      ],
      "metadata": {
        "colab": {
          "base_uri": "https://localhost:8080/"
        },
        "id": "3hcRqiIHdxBT",
        "outputId": "36a09c01-6b2b-4eb5-9be1-1d84ddb15e02"
      },
      "execution_count": 6,
      "outputs": [
        {
          "output_type": "stream",
          "name": "stdout",
          "text": [
            "04_flowing_with_data_structures\n",
            "Enter a message to copy: hello pakistan\n",
            "Before list: []\n",
            "After list: ['hello pakistan', 'hello pakistan', 'hello pakistan']\n"
          ]
        }
      ]
    },
    {
      "cell_type": "code",
      "source": [
        "print(\"05_get_first_element\")\n",
        "\n",
        "def get_first_element(lst):\n",
        "    print(lst[0])\n",
        "\n",
        "def get_list():\n",
        "    lst = []\n",
        "    elem = input(\"Enter an element to add to the list (press Enter to stop): \")\n",
        "    while elem != \"\":\n",
        "        lst.append(elem)\n",
        "        elem = input(\"Enter an element to add to the list (press Enter to stop): \")\n",
        "    return lst\n",
        "\n",
        "def main():\n",
        "    lst = get_list()\n",
        "    if lst:\n",
        "        get_first_element(lst)\n",
        "    else:\n",
        "        print(\"The list is empty. No first element to show.\")\n",
        "\n",
        "if __name__ == \"__main__\":\n",
        "    main()\n"
      ],
      "metadata": {
        "colab": {
          "base_uri": "https://localhost:8080/"
        },
        "id": "v2y-W5Zggur6",
        "outputId": "97924788-4088-42fb-93c7-710117fe0f40"
      },
      "execution_count": 8,
      "outputs": [
        {
          "output_type": "stream",
          "name": "stdout",
          "text": [
            "05_get_first_element\n",
            "Enter an element to add to the list (press Enter to stop): a\n",
            "Enter an element to add to the list (press Enter to stop): 5\n",
            "Enter an element to add to the list (press Enter to stop): d\n",
            "Enter an element to add to the list (press Enter to stop): r\n",
            "Enter an element to add to the list (press Enter to stop): y\n",
            "Enter an element to add to the list (press Enter to stop): \n",
            "a\n"
          ]
        }
      ]
    },
    {
      "cell_type": "code",
      "source": [
        "print(\"06_get_last_element\")\n",
        "def get_last_element(lst):\n",
        "  print(lst[-1])\n",
        "\n",
        "\n",
        "def get_list():\n",
        "    lst = []\n",
        "    elem = input(\"Enter an element to add to the list (press Enter to stop): \")\n",
        "    while elem != \"\":\n",
        "        lst.append(elem)\n",
        "        elem = input(\"Enter an element to add to the list (press Enter to stop): \")\n",
        "    return lst\n",
        "\n",
        "def main():\n",
        "    lst = get_list()\n",
        "    if lst:\n",
        "        get_last_element(lst)\n",
        "\n",
        "if __name__==\"__main__\":\n",
        "  main()\n"
      ],
      "metadata": {
        "colab": {
          "base_uri": "https://localhost:8080/"
        },
        "id": "JuHMesvjjsFs",
        "outputId": "dc0ce924-f07e-43d5-946c-f194a8623d59"
      },
      "execution_count": 11,
      "outputs": [
        {
          "output_type": "stream",
          "name": "stdout",
          "text": [
            "06_get_last_element\n",
            "Enter an element to add to the list (press Enter to stop): r\n",
            "Enter an element to add to the list (press Enter to stop): l\n",
            "Enter an element to add to the list (press Enter to stop): j\n",
            "Enter an element to add to the list (press Enter to stop): j\n",
            "Enter an element to add to the list (press Enter to stop): u\n",
            "Enter an element to add to the list (press Enter to stop): \n",
            "u\n"
          ]
        }
      ]
    },
    {
      "cell_type": "code",
      "source": [
        "print(\"07_get_list\")\n",
        "\n",
        "def main():\n",
        "    lst = []\n",
        "    val = input(\"Enter a value to add to the list: \")\n",
        "    while val:\n",
        "        lst.append(val)\n",
        "        val = input(\"Enter a value to add to the list: \")\n",
        "\n",
        "    print(\"Here is the list:\", lst)\n",
        "\n",
        "if __name__ == \"__main__\":\n",
        "    main()\n"
      ],
      "metadata": {
        "colab": {
          "base_uri": "https://localhost:8080/"
        },
        "id": "WjBVVrJ7mahR",
        "outputId": "92da3ccf-1783-43bf-b530-0d7c46f7f1f5"
      },
      "execution_count": 14,
      "outputs": [
        {
          "output_type": "stream",
          "name": "stdout",
          "text": [
            "07_get_list\n",
            "Enter a value to add to the list: apple\n",
            "Enter a value to add to the list: banana\n",
            "Enter a value to add to the list: choclate\n",
            "Enter a value to add to the list: \n",
            "Here is the list: ['apple', 'banana', 'choclate']\n"
          ]
        }
      ]
    },
    {
      "cell_type": "code",
      "source": [
        "print(\"08_shorten\")\n",
        "\n",
        "MAX_LENGTH:int = 3\n",
        "def shorten(lst):\n",
        "  while len(lst) >= MAX_LENGTH:\n",
        "    last_element = lst.pop()\n",
        "    print(last_element)\n",
        "\n",
        "    def get_lst():\n",
        "      lst = []\n",
        "      element = input(\"Enter an element to the list: \")\n",
        "      while element != \"\":\n",
        "        lst.append(element)\n",
        "        element = input(\"Enter an element to add to the list: \")\n",
        "        return lst\n",
        "        def main():\n",
        "          lst = gret_lst()\n",
        "          shorten(lst)\n",
        "\n",
        "if __name__==\"__main__\":\n",
        "  main()j\n",
        "\n"
      ],
      "metadata": {
        "colab": {
          "base_uri": "https://localhost:8080/"
        },
        "id": "eOilW8zgpcu6",
        "outputId": "d91ba4b1-6444-4e45-aa28-8e8abf94af53"
      },
      "execution_count": 15,
      "outputs": [
        {
          "output_type": "stream",
          "name": "stdout",
          "text": [
            "08_shorten\n",
            "Enter a value to add to the list: a\n",
            "Enter a value to add to the list: u\n",
            "Enter a value to add to the list: \n",
            "Here is the list: ['a', 'u']\n"
          ]
        }
      ]
    }
  ]
}