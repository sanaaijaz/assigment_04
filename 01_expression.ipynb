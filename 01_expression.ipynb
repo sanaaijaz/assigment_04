{
  "nbformat": 4,
  "nbformat_minor": 0,
  "metadata": {
    "colab": {
      "provenance": [],
      "authorship_tag": "ABX9TyN0q32UQJ/zshT+8ZQ2GfEK",
      "include_colab_link": true
    },
    "kernelspec": {
      "name": "python3",
      "display_name": "Python 3"
    },
    "language_info": {
      "name": "python"
    }
  },
  "cells": [
    {
      "cell_type": "markdown",
      "metadata": {
        "id": "view-in-github",
        "colab_type": "text"
      },
      "source": [
        "<a href=\"https://colab.research.google.com/github/sanaaijaz/assigment_04/blob/main/01_expression.ipynb\" target=\"_parent\"><img src=\"https://colab.research.google.com/assets/colab-badge.svg\" alt=\"Open In Colab\"/></a>"
      ]
    },
    {
      "cell_type": "code",
      "execution_count": null,
      "metadata": {
        "colab": {
          "base_uri": "https://localhost:8080/"
        },
        "id": "VUPVbkF5CKEB",
        "outputId": "7af67e60-c675-4085-a5d8-c9d4ec44ac09"
      },
      "outputs": [
        {
          "output_type": "stream",
          "name": "stdout",
          "text": [
            "01_dicesimulator\n",
            "die1 in main() start as: 10\n",
            "Total of two dice: 11\n",
            "Total of two dice: 7\n",
            "Total of two dice: 7\n",
            "die1 in main() is: 10\n"
          ]
        }
      ],
      "source": [
        "import random\n",
        "print(\"01_dicesimulator\")\n",
        "\n",
        "def roll_dice():\n",
        "    die1: int = random.randint(1, 6)\n",
        "    dice2: int = random.randint(1, 6)\n",
        "    total: int = die1 + dice2\n",
        "    print(f\"Total of two dice: {total}\")\n",
        "\n",
        "def main():\n",
        "    die1: int = 10\n",
        "    print(\"die1 in main() start as: \" + str(die1))\n",
        "    roll_dice()\n",
        "    roll_dice()\n",
        "    roll_dice()\n",
        "    print(\"die1 in main() is: \" + str(die1))\n",
        "\n",
        "if __name__ == \"__main__\":\n",
        "    main()\n",
        "\n",
        "\n"
      ]
    },
    {
      "cell_type": "code",
      "source": [
        "print(\"02_e=mc_md\")\n",
        "\n",
        "def energy():\n",
        "    c: float = 299792458  # speed of light in m/s\n",
        "    m: float = float(input(\"Mass in kilograms: \"))\n",
        "\n",
        "    print(\"e = mc^2\")\n",
        "    print(\"Mass = \" + str(m) + \"  kg\")\n",
        "    print(\"c = \" + str(c) + \"  m/s\")\n",
        "\n",
        "    e = m * c ** 2\n",
        "    print(\"Energy = \" + str(e) + \"  joules\")\n",
        "\n",
        "if __name__ == \"__main__\":\n",
        "    energy()\n"
      ],
      "metadata": {
        "id": "ba9XPOkdJCT-",
        "colab": {
          "base_uri": "https://localhost:8080/"
        },
        "outputId": "53fed858-f0a1-48a7-d425-3f6b22e6bc0d"
      },
      "execution_count": null,
      "outputs": [
        {
          "output_type": "stream",
          "name": "stdout",
          "text": [
            "02_e=mc_md\n",
            "Mass in kilograms: 130\n",
            "e = mc^2\n",
            "Mass = 130.0  kg\n",
            "c = 299792458  m/s\n",
            "Energy = 1.1683817323578628e+19  joules\n"
          ]
        }
      ]
    },
    {
      "cell_type": "code",
      "source": [
        "print(\"03_feet_to_inches\")\n",
        "\n",
        "inches: int = 12\n",
        "\n",
        "def foot():\n",
        "    feet: int = int(input(\"Enter feet, I will convert it into inches: \"))\n",
        "    print(f\"There are {inches * feet} inches in {feet} feet.\")\n",
        "\n",
        "if __name__ == \"__main__\":\n",
        "    foot()\n"
      ],
      "metadata": {
        "colab": {
          "base_uri": "https://localhost:8080/"
        },
        "id": "qVJWa1JQq_nf",
        "outputId": "559bb128-cd37-4b79-dc40-cfa2d28ec274"
      },
      "execution_count": null,
      "outputs": [
        {
          "output_type": "stream",
          "name": "stdout",
          "text": [
            "03_feet_to_inches\n",
            "Enter feet, I will convert it into inches: 45\n",
            "There are 540 inches in 45 feet.\n"
          ]
        }
      ]
    },
    {
      "cell_type": "code",
      "source": [
        "import math\n",
        "\n",
        "print(\"04_pythagorean_theorem\")\n",
        "\n",
        "def triangle():\n",
        "    ab: float = float(input(\"Enter the length of side ab: \"))\n",
        "    ac: float = float(input(\"Enter the length of side ac: \"))\n",
        "    bc: float = math.sqrt(ab**2 + ac**2)\n",
        "    print(f\"The length of bc (the hypotenuse) is: {bc}\")\n",
        "\n",
        "if __name__ == \"__main__\":\n",
        "    triangle()\n"
      ],
      "metadata": {
        "colab": {
          "base_uri": "https://localhost:8080/"
        },
        "id": "aFLsF9DstZuc",
        "outputId": "d4a24e3e-ecd6-4b76-993e-717557d7ede7"
      },
      "execution_count": null,
      "outputs": [
        {
          "output_type": "stream",
          "name": "stdout",
          "text": [
            "04_pythagorean_theorem\n",
            "Enter the length of side ab: 4.9\n",
            "Enter the length of side ac: 5.8\n",
            "The length of bc (the hypotenuse) is: 7.592759709091287\n"
          ]
        }
      ]
    },
    {
      "cell_type": "code",
      "source": [
        "print(\"05_remainder_division\")\n",
        "\n",
        "def remainder():\n",
        "    num1: int = int(input(\"Enter an integer to be divided: \"))\n",
        "    num2: int = int(input(\"Enter an integer to divide by: \"))\n",
        "\n",
        "    quotient: int = num1 // num2\n",
        "    remainder: int = num1 % num2\n",
        "\n",
        "    print(f\"The result of this division is {quotient} with a remainder of {remainder}\")\n",
        "\n",
        "if __name__ == \"__main__\":\n",
        "    remainder()\n"
      ],
      "metadata": {
        "colab": {
          "base_uri": "https://localhost:8080/"
        },
        "id": "2KXjqLsev4J3",
        "outputId": "c4c96791-9989-4b5a-f006-1212b8826d8c"
      },
      "execution_count": null,
      "outputs": [
        {
          "output_type": "stream",
          "name": "stdout",
          "text": [
            "05_remainder_division\n",
            "Enter an integer to be divided: 45\n",
            "Enter an integer to divide by: 43\n",
            "The result of this division is 1 with a remainder of 2\n"
          ]
        }
      ]
    },
    {
      "cell_type": "code",
      "source": [
        "import random\n",
        "\n",
        "print(\"0_6_rolldice.\")\n",
        "\n",
        "def dice():\n",
        "    die1 = random.randint(1, 6)  # Fixed function name and assignment\n",
        "    die2 = random.randint(1, 6)\n",
        "    total = die1 + die2\n",
        "    print(\"First die:\", die1)\n",
        "    print(\"Second die:\", die2)\n",
        "    print(f\"Total of two dice: {total}\")\n",
        "\n",
        "if __name__ == \"__main__\":  # Fixed comparison string\n",
        "    dice()\n"
      ],
      "metadata": {
        "id": "LaXAIYWnyNCQ",
        "colab": {
          "base_uri": "https://localhost:8080/"
        },
        "outputId": "b9a53751-8e7b-4951-8925-ed15bbdd0c80"
      },
      "execution_count": 7,
      "outputs": [
        {
          "output_type": "stream",
          "name": "stdout",
          "text": [
            "0_6_rolldice.\n",
            "First die: 1\n",
            "Second die: 5\n",
            "Total of two dice: 6\n"
          ]
        }
      ]
    },
    {
      "cell_type": "code",
      "source": [
        "print(\"06_second_in_year\")\n",
        "\n",
        "days_in_year: int = 365\n",
        "hours_per_day: int = 24\n",
        "minutes_per_hour: int = 60\n",
        "seconds_per_minute: int = 60  # Fixed typo here\n",
        "\n",
        "def second():\n",
        "    print(f\"There are {days_in_year * hours_per_day * minutes_per_hour * seconds_per_minute} seconds in a year!\")\n",
        "\n",
        "if __name__ == \"__main__\":\n",
        "    second()\n"
      ],
      "metadata": {
        "colab": {
          "base_uri": "https://localhost:8080/"
        },
        "id": "oRRMAjISP59C",
        "outputId": "a51a4a85-18c9-4c5d-f90c-30e5a862d9ed"
      },
      "execution_count": 10,
      "outputs": [
        {
          "output_type": "stream",
          "name": "stdout",
          "text": [
            "06_second_in_year\n",
            "There are 31536000 seconds in a year!\n"
          ]
        }
      ]
    },
    {
      "cell_type": "code",
      "source": [
        "print(\"07_tiny_mad_lib\")\n",
        "\n",
        "def mad_lib():\n",
        "    noun = input(\"Enter a noun: \")\n",
        "    adjective = input(\"Enter an adjective: \")\n",
        "    verb = input(\"Enter a verb: \")\n",
        "    adverb = input(\"Enter an adverb: \")\n",
        "\n",
        "    print(f\"Do you {verb} your {adjective} {noun} {adverb}? That is hilarious!\")\n",
        "\n",
        "if __name__ == \"__main__\":\n",
        "    mad_lib()\n"
      ],
      "metadata": {
        "colab": {
          "base_uri": "https://localhost:8080/"
        },
        "id": "mZu3ysgcTIy1",
        "outputId": "d7c66834-b2ff-43b8-8937-f072d8485956"
      },
      "execution_count": 12,
      "outputs": [
        {
          "output_type": "stream",
          "name": "stdout",
          "text": [
            "07_tiny_mad_lib\n",
            "Enter a noun: cat\n",
            "Enter an adjective: beautiful\n",
            "Enter a verb: run\n",
            "Enter an adverb: fast\n",
            "Do you run your beautiful cat fast? That is hilarious!\n"
          ]
        }
      ]
    }
  ]
}