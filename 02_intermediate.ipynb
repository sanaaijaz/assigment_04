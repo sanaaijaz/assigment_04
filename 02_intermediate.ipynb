{
  "nbformat": 4,
  "nbformat_minor": 0,
  "metadata": {
    "colab": {
      "provenance": [],
      "authorship_tag": "ABX9TyOCvLpp/S3HLjjzGYbtSR3G",
      "include_colab_link": true
    },
    "kernelspec": {
      "name": "python3",
      "display_name": "Python 3"
    },
    "language_info": {
      "name": "python"
    }
  },
  "cells": [
    {
      "cell_type": "markdown",
      "metadata": {
        "id": "view-in-github",
        "colab_type": "text"
      },
      "source": [
        "<a href=\"https://colab.research.google.com/github/sanaaijaz/assigment_04/blob/main/02_intermediate.ipynb\" target=\"_parent\"><img src=\"https://colab.research.google.com/assets/colab-badge.svg\" alt=\"Open In Colab\"/></a>"
      ]
    },
    {
      "cell_type": "code",
      "execution_count": null,
      "metadata": {
        "colab": {
          "base_uri": "https://localhost:8080/"
        },
        "id": "l1th8fzUVjeB",
        "outputId": "270c831c-fafd-4f2d-d927-e23ddebb1682"
      },
      "outputs": [
        {
          "metadata": {
            "tags": null
          },
          "name": "stdout",
          "output_type": "stream",
          "text": [
            "High Low Game\n",
            "Welcome to the High Low Game\n",
            "******************************\n",
            "Round 1\n",
            "Your number is 67\n"
          ]
        }
      ],
      "source": [
        "import random\n",
        "print(\"High Low Game\")\n",
        "\n",
        "total_rounds = 5\n",
        "\n",
        "def main():\n",
        "    print(\"Welcome to the High Low Game\")\n",
        "    print(\"******************************\")\n",
        "\n",
        "    your_score = 0\n",
        "    for i in range(total_rounds):\n",
        "        print(\"Round\", i + 1)\n",
        "        computer_number: int = random.randint(1, 100)\n",
        "        your_number: int = random.randint(1, 100)\n",
        "        print(\"Your number is\", your_number)\n",
        "\n",
        "        choice: str = input(\"Do you think your number is higher or lower than the computer's number? (Type 'higher' or 'lower') \").strip().lower()\n",
        "\n",
        "        higher_and_correct: bool = choice == \"higher\" and your_number > computer_number\n",
        "        lower_and_correct: bool = choice == \"lower\" and your_number < computer_number\n",
        "\n",
        "        if higher_and_correct or lower_and_correct:\n",
        "            print(\"You were right! The computer's number was\", computer_number)\n",
        "            your_score += 1\n",
        "        else:\n",
        "            print(\"That's incorrect. The computer's number was\", computer_number)\n",
        "\n",
        "        print(\"Your score is now\", your_score)\n",
        "        print()\n",
        "\n",
        "    print(\"Thanks for playing!\")\n",
        "\n",
        "if __name__ == \"__main__\":\n",
        "    main()\n"
      ]
    },
    {
      "cell_type": "code",
      "source": [
        "print(\"Planetary Weight Calculator\")\n",
        "\n",
        "def main():\n",
        "    print(\"Welcome to the planetary weight calculator\")\n",
        "    print(\"******************************************\")\n",
        "\n",
        "    earth_weight = float(input(\"Enter your weight on Earth: \"))\n",
        "\n",
        "    gravity_ratios = {\n",
        "        \"Mercury\": 0.38,\n",
        "        \"Venus\": 0.91,\n",
        "        \"Mars\": 0.38,\n",
        "        \"Jupiter\": 2.34,\n",
        "        \"Saturn\": 0.93,\n",
        "        \"Uranus\": 0.92,\n",
        "        \"Neptune\": 1.19\n",
        "    }\n",
        "\n",
        "    print(\"\\nSelect a planet:\")\n",
        "    for planet in gravity_ratios:\n",
        "        print(f\" - {planet}\")\n",
        "\n",
        "    planet_choice = input(\"\\nEnter the name of the planet: \").title()\n",
        "\n",
        "    if planet_choice in gravity_ratios:\n",
        "        new_weight = earth_weight * gravity_ratios[planet_choice]\n",
        "        print(f\"\\n🌍 Your weight on {planet_choice} would be: {new_weight:.2f} kg\")\n",
        "    else:\n",
        "        print(\"❌ Invalid planet choice. Please try again.\")\n",
        "\n",
        "if __name__ == \"__main__\":\n",
        "    main()\n"
      ],
      "metadata": {
        "id": "ZDqyhQnBciyt"
      },
      "execution_count": null,
      "outputs": []
    },
    {
      "cell_type": "code",
      "source": [
        "print(\"List and Dicts\")\n",
        "\n",
        "def access_element(my_list, index):\n",
        "    \"\"\"Return the element at the specified index, or an error message if the index is out of range.\"\"\"\n",
        "    if 0 <= index < len(my_list):\n",
        "        return f\"Element at index {index}: {my_list[index]}\"\n",
        "    else:\n",
        "        return \"Index out of range\"\n",
        "\n",
        "def modify_element(my_list, index, new_value):\n",
        "    \"\"\"Modify the element at the specified index with the new value.\"\"\"\n",
        "    if 0 <= index < len(my_list):\n",
        "        old_value = my_list[index]\n",
        "        my_list[index] = new_value\n",
        "        return f\"Element at index {index} modified from {old_value} to {new_value}\"\n",
        "    else:\n",
        "        return \"Index out of range\"\n",
        "\n",
        "def slice_list(my_list, start_index, end_index):\n",
        "    \"\"\"Return a new list containing the elements from the start index to the end index.\"\"\"\n",
        "    if 0 <= start_index <= end_index <= len(my_list):\n",
        "        return f\"Sliced list: {my_list[start_index:end_index]}\"\n",
        "    else:\n",
        "        return \"Invalid slice indices\"\n",
        "\n",
        "def list_game():\n",
        "    print(\"\\nWelcome to the list manipulation game!\")\n",
        "\n",
        "    my_list = [\"apple\", \"banana\", \"cherry\", \"strawberry\", \"banana\"]  # fixed commas!\n",
        "\n",
        "    while True:\n",
        "        print(\"\\nCurrent list:\", my_list)\n",
        "        print(\"Select an operation:\")\n",
        "        print(\"1. Access Element\")\n",
        "        print(\"2. Modify Element\")\n",
        "        print(\"3. Slice List\")\n",
        "        print(\"4. Quit\")\n",
        "\n",
        "        choice = input(\"Enter your choice (1-4): \")\n",
        "\n",
        "        if choice == \"1\":\n",
        "            index = int(input(\"Enter the index of the element you want to access: \"))\n",
        "            print(access_element(my_list, index))\n",
        "        elif choice == \"2\":\n",
        "            index = int(input(\"Enter the index of the element you want to modify: \"))\n",
        "            new_value = input(\"Enter the new value for the element: \")\n",
        "            print(modify_element(my_list, index, new_value))\n",
        "        elif choice == \"3\":\n",
        "            start_index = int(input(\"Enter the start index for the slice: \"))\n",
        "            end_index = int(input(\"Enter the end index for the slice: \"))\n",
        "            print(slice_list(my_list, start_index, end_index))\n",
        "        elif choice == \"4\":\n",
        "            print(\"Goodbye! Thanks for playing! 😊\")\n",
        "            break\n",
        "        else:\n",
        "            print(\"Invalid choice. Please try again.\")\n",
        "\n",
        "if __name__ == \"__main__\":\n",
        "    list_game()\n"
      ],
      "metadata": {
        "id": "t5oMDShbhmdd"
      },
      "execution_count": null,
      "outputs": []
    }
  ]
}