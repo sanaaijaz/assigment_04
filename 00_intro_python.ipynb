{
  "nbformat": 4,
  "nbformat_minor": 0,
  "metadata": {
    "colab": {
      "provenance": [],
      "authorship_tag": "ABX9TyOzrZt5jBLF2Idlal34JZrk",
      "include_colab_link": true
    },
    "kernelspec": {
      "name": "python3",
      "display_name": "Python 3"
    },
    "language_info": {
      "name": "python"
    }
  },
  "cells": [
    {
      "cell_type": "markdown",
      "metadata": {
        "id": "view-in-github",
        "colab_type": "text"
      },
      "source": [
        "<a href=\"https://colab.research.google.com/github/sanaaijaz/assigment_04/blob/main/00_intro_python.ipynb\" target=\"_parent\"><img src=\"https://colab.research.google.com/assets/colab-badge.svg\" alt=\"Open In Colab\"/></a>"
      ]
    },
    {
      "cell_type": "code",
      "execution_count": null,
      "metadata": {
        "colab": {
          "base_uri": "https://localhost:8080/"
        },
        "id": "ma4_nj5fH-Ns",
        "outputId": "79bf863d-de52-4e39-ae03-5bbd4955442c"
      },
      "outputs": [
        {
          "output_type": "stream",
          "name": "stdout",
          "text": [
            "o1_add_two_numbers\n"
          ]
        }
      ],
      "source": [
        "print(\"o1_add_two_numbers\")\n",
        "\n",
        "def add():\n",
        "  print(\"This application for add two numbers\")\n",
        "  first_number = int(input(\"Enter your first number\" ))\n",
        "  second_number = int(input(\"Enter your second number. \"))\n",
        "  total = int(first_number + second_number)\n",
        "  print(f\"The total sum of {first_number} and {second_number} is {total} \")\n",
        "if __name__==\"--main__\":\n",
        "   add()\n",
        "\n",
        "\n",
        "\n"
      ]
    },
    {
      "cell_type": "code",
      "source": [],
      "metadata": {
        "id": "Hk9HygDNuVIS"
      },
      "execution_count": null,
      "outputs": []
    },
    {
      "cell_type": "code",
      "source": [
        "print(\"02_agreement_bot\")\n",
        "\n",
        "def bot():\n",
        "  animal = str(input(\"What is your favourite animal? \"))\n",
        "  print(f\"My favouritr animal is also {animal}!\")\n",
        "if __name__==\"__main__\":\n",
        "  bot()"
      ],
      "metadata": {
        "colab": {
          "base_uri": "https://localhost:8080/"
        },
        "id": "9ZH92hraQY5X",
        "outputId": "a9a12138-f9f2-44a0-9092-6c011cbc3ca4"
      },
      "execution_count": null,
      "outputs": [
        {
          "output_type": "stream",
          "name": "stdout",
          "text": [
            "02_agreement_bot\n",
            "What is your favourite animal? cat\n",
            "My favouritr animal is also cat!\n"
          ]
        }
      ]
    },
    {
      "cell_type": "code",
      "source": [
        "print(\"03_fahrenheit_to_celsius\")\n",
        "\n",
        "def temp():\n",
        "\n",
        "  print(\"This code for converting fahrenheit to celsius\")\n",
        "  fahrenheit_degree  = float(input(\"Enter your fahrenheit degree. \"))\n",
        "  celsius_degree = (fahrenheit_degree - 32) * 5.0/9.0\n",
        "  print(f\"Temperature {fahrenheit_degree} F = {celsius_degree} C \")\n",
        "if __name__==\"__main__\":\n",
        "  temp()"
      ],
      "metadata": {
        "colab": {
          "base_uri": "https://localhost:8080/"
        },
        "id": "MGQ7Bhzeuk-q",
        "outputId": "ba8e7aa2-76fd-494d-b4db-f392f8665891"
      },
      "execution_count": 4,
      "outputs": [
        {
          "output_type": "stream",
          "name": "stdout",
          "text": [
            "03_fahrenheit_to_celsius\n",
            "This code for converting fahrenheit to celsius\n",
            "Enter your fahrenheit degree. 67\n",
            "Temperature 67.0 F = 19.444444444444443 C \n"
          ]
        }
      ]
    },
    {
      "cell_type": "code",
      "source": [
        "\n",
        "\n",
        "print(\"04_how_old_are_they\")\n",
        "\n",
        "def add_ages():\n",
        "  anthon:int = 21\n",
        "  beth:int = anthon + 6\n",
        "  chen:int = beth + 20\n",
        "  drew:int = chen + anthon\n",
        "  ethan:int = chen\n",
        "\n",
        "  print(\"Anthon is \" + str(anthon))\n",
        "  print(\"Beth is \" + str(beth))\n",
        "  print(\"Chen is \" + str(chen))\n",
        "  print(\"Drew is \" + str(drew))\n",
        "  print(\"Ethan is \" + str(ethan))\n",
        "\n",
        "if __name__==\"__main__\":\n",
        "  add_ages()\n",
        "\n",
        "\n"
      ],
      "metadata": {
        "colab": {
          "base_uri": "https://localhost:8080/"
        },
        "id": "yrYCAganzb09",
        "outputId": "e7371fc2-01e9-42e6-aa3b-be4c10638f7e"
      },
      "execution_count": 8,
      "outputs": [
        {
          "output_type": "stream",
          "name": "stdout",
          "text": [
            "04_how_old_are_they\n",
            "Anthon is 21\n",
            "Beth is 27\n",
            "Chen is 47\n",
            "Drew is 68\n",
            "Ethan is 47\n"
          ]
        }
      ]
    },
    {
      "cell_type": "code",
      "source": [
        "print(\"05_triangle_perimeter. \")\n",
        "def triangle():\n",
        "  print(\"this code is about perimeter of triangle  \")\n",
        "  side1:float = float(input(\"Enter your first side no of triangle. \"))\n",
        "  side2:float = float(input(\"Enter your second side no of triangle. \"))\n",
        "  side3:float = float(input(\"Enter your third side no of triangle. \"))\n",
        "  total:float = float(side1 + side2 + side3)\n",
        "  print(f\"The perimeter of {side1}, {side2}and {side3} is {total}  \")\n",
        "if __name__==\"__main__\":\n",
        "  triangle()"
      ],
      "metadata": {
        "colab": {
          "base_uri": "https://localhost:8080/"
        },
        "id": "R3IsddaD5hS_",
        "outputId": "596e1b72-e199-4a51-edd0-0261795443b4"
      },
      "execution_count": 10,
      "outputs": [
        {
          "output_type": "stream",
          "name": "stdout",
          "text": [
            "05_triangle_perimeter. \n",
            "this code is about perimeter of triangle  \n",
            "Enter your first side no of triangle. 5\n",
            "Enter your second side no of triangle. 2\n",
            "Enter your third side no of triangle. 3\n",
            "The perimeter of 5.0, 2.0and 3.0 is 10.0  \n"
          ]
        }
      ]
    },
    {
      "cell_type": "code",
      "source": [
        "print(\"06_square_number\")\n",
        "def square():\n",
        "  print(\"this code is about square of given number\")\n",
        "  num1:int = int (input(\"Enter any number and i will give you a square value. \"))\n",
        "  print(f\"The square of {num1} is {num1 **2}\" )\n",
        "if __name__==\"__main__\":\n",
        "    square()"
      ],
      "metadata": {
        "colab": {
          "base_uri": "https://localhost:8080/"
        },
        "id": "buq_b4G18thQ",
        "outputId": "e2b37f65-dea0-4727-e194-87ac7157c0c4"
      },
      "execution_count": 16,
      "outputs": [
        {
          "output_type": "stream",
          "name": "stdout",
          "text": [
            "06_square_number\n",
            "this code is about square of given number\n",
            "Enter any number and i will give you a square value. 4\n",
            "The square of 4 is 16\n"
          ]
        }
      ]
    }
  ]
}