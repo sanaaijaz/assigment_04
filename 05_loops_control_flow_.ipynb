{
  "nbformat": 4,
  "nbformat_minor": 0,
  "metadata": {
    "colab": {
      "provenance": [],
      "authorship_tag": "ABX9TyNeSkQ4is2rqAklAGKw0MN0",
      "include_colab_link": true
    },
    "kernelspec": {
      "name": "python3",
      "display_name": "Python 3"
    },
    "language_info": {
      "name": "python"
    }
  },
  "cells": [
    {
      "cell_type": "markdown",
      "metadata": {
        "id": "view-in-github",
        "colab_type": "text"
      },
      "source": [
        "<a href=\"https://colab.research.google.com/github/sanaaijaz/assigment_04/blob/main/05_loops_control_flow_.ipynb\" target=\"_parent\"><img src=\"https://colab.research.google.com/assets/colab-badge.svg\" alt=\"Open In Colab\"/></a>"
      ]
    },
    {
      "cell_type": "code",
      "execution_count": null,
      "metadata": {
        "colab": {
          "base_uri": "https://localhost:8080/"
        },
        "id": "wpHAK9M6rJJF",
        "outputId": "c09a2703-aca0-42fa-b38f-4d981eb0951c"
      },
      "outputs": [
        {
          "metadata": {
            "tags": null
          },
          "name": "stdout",
          "output_type": "stream",
          "text": [
            "00_guess_my_number.\n",
            "I am thinking of a number between 1 and 100...\n"
          ]
        }
      ],
      "source": [
        "import random\n",
        "\n",
        "print(\"00_guess_my_number.\")\n",
        "\n",
        "def main():\n",
        "    secret_number = random.randint(1, 100)\n",
        "    print(\"I am thinking of a number between 1 and 100...\")\n",
        "\n",
        "    guess = int(input(\"Enter a guess: \"))\n",
        "    while guess != secret_number:\n",
        "        if guess < secret_number:\n",
        "            print(\"Your guess is too low.\")\n",
        "        else:\n",
        "            print(\"Your guess is too high.\")\n",
        "        guess = int(input(\"Enter a guess: \"))\n",
        "\n",
        "    print(f\"Congratulations! The number was {secret_number}.\")\n",
        "\n",
        "if __name__ == \"__main__\":\n",
        "    main()\n",
        "\n"
      ]
    },
    {
      "cell_type": "code",
      "source": [
        "print(\"01_fibonacci\")\n",
        "max_value = 10000\n",
        "\n",
        "def main():\n",
        "    a, b = 0, 1\n",
        "    print(a, b, end=\" \")\n",
        "\n",
        "    while True:\n",
        "        c = a + b\n",
        "        if c >= max_value:\n",
        "            break\n",
        "        print(c, end=\" \")\n",
        "        a, b = b, c\n",
        "\n",
        "if __name__ == \"__main__\":\n",
        "    main()\n"
      ],
      "metadata": {
        "id": "Co1bQl8bv04L"
      },
      "execution_count": null,
      "outputs": []
    },
    {
      "cell_type": "code",
      "source": [
        "print(\"02_print_evens\")\n",
        "\n",
        "def main():\n",
        "    for i in range(20):\n",
        "        print(i * 2)\n",
        "\n",
        "if __name__ == \"__main__\":\n",
        "    main()\n"
      ],
      "metadata": {
        "id": "BPDmVcgxyw9Y"
      },
      "execution_count": null,
      "outputs": []
    },
    {
      "cell_type": "code",
      "source": [
        "print(\"03_wholesome_machine\")\n",
        "\n",
        "correct_affirmation = \"I am capable of doing anything. I put my mind too.\"\n",
        "\n",
        "\n",
        "def main():\n",
        "    print(\"Welcome to the wholesome_machine!\")\n",
        "    print(\"Please type the following affirmation:\")\n",
        "    print(f'\"{correct_affirmation}\"')  # shows the sentence clearly\n",
        "\n",
        "    while True:\n",
        "        user_input = input(\"\\nYour input: \")\n",
        "        if user_input == correct_affirmation:\n",
        "            print(\"That's right! 🌟\")\n",
        "            break\n",
        "        else:\n",
        "            print(\"Hmm, that was not the affirmation. Please try again!\")\n",
        "\n",
        "if __name__ == \"__main__\":\n",
        "    main()\n"
      ],
      "metadata": {
        "id": "z6ZNAnGn0lzq",
        "colab": {
          "base_uri": "https://localhost:8080/"
        },
        "outputId": "98460e9f-698e-4d5c-87fd-86ed8d232fdc"
      },
      "execution_count": 8,
      "outputs": [
        {
          "output_type": "stream",
          "name": "stdout",
          "text": [
            "03_wholesome_machine\n",
            "Welcome to the wholesome_machine!\n",
            "Please type the following affirmation:\n",
            "\"I am capable of doing anything. I put my mind too.\"\n",
            "\n",
            "Your input: \"I am capable of doing anything. I put my mind too\n",
            "Hmm, that was not the affirmation. Please try again!\n",
            "\n",
            "Your input: I am capable of doing anything. I put my mind too.\n",
            "That's right! 🌟\n"
          ]
        }
      ]
    },
    {
      "cell_type": "code",
      "source": [
        "print(\"04_liftoff\")\n",
        "\n",
        "def main():\n",
        "    for i in range(10, 0, -1):\n",
        "        print(i, end=\" \")\n",
        "    print(\"\\nLiftoff!\")\n",
        "\n",
        "if __name__ == \"__main__\":\n",
        "    main()\n"
      ],
      "metadata": {
        "colab": {
          "base_uri": "https://localhost:8080/"
        },
        "id": "ETh_yPF2E3Sw",
        "outputId": "aef61661-2eb7-48f7-8a61-b6774103bd59"
      },
      "execution_count": 9,
      "outputs": [
        {
          "output_type": "stream",
          "name": "stdout",
          "text": [
            "04_liftoff\n",
            "10 9 8 7 6 5 4 3 2 1 \n",
            "Liftoff!\n"
          ]
        }
      ]
    },
    {
      "cell_type": "code",
      "source": [
        "print(\"05_double_it\")\n",
        "\n",
        "def main():\n",
        "    user_value = int(input(\"Enter a number: \"))\n",
        "    while user_value < 100:\n",
        "        user_value = user_value * 2\n",
        "        print(user_value)\n",
        "\n",
        "if __name__ == \"__main__\":\n",
        "    main()\n"
      ],
      "metadata": {
        "colab": {
          "base_uri": "https://localhost:8080/"
        },
        "id": "aGqAYEAvGbCv",
        "outputId": "23a43c44-bc39-4adf-9c95-0f0f7944885f"
      },
      "execution_count": 10,
      "outputs": [
        {
          "output_type": "stream",
          "name": "stdout",
          "text": [
            "05_double_it\n",
            "Enter a number: 2\n",
            "4\n",
            "8\n",
            "16\n",
            "32\n",
            "64\n",
            "128\n"
          ]
        }
      ]
    }
  ]
}