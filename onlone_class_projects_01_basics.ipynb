{
  "nbformat": 4,
  "nbformat_minor": 0,
  "metadata": {
    "colab": {
      "provenance": [],
      "authorship_tag": "ABX9TyOODQ3YFf+binZ8k397ZGmA",
      "include_colab_link": true
    },
    "kernelspec": {
      "name": "python3",
      "display_name": "Python 3"
    },
    "language_info": {
      "name": "python"
    }
  },
  "cells": [
    {
      "cell_type": "markdown",
      "metadata": {
        "id": "view-in-github",
        "colab_type": "text"
      },
      "source": [
        "<a href=\"https://colab.research.google.com/github/sanaaijaz/assigment_04/blob/main/onlone_class_projects_01_basics.ipynb\" target=\"_parent\"><img src=\"https://colab.research.google.com/assets/colab-badge.svg\" alt=\"Open In Colab\"/></a>"
      ]
    },
    {
      "cell_type": "code",
      "execution_count": null,
      "metadata": {
        "colab": {
          "base_uri": "https://localhost:8080/"
        },
        "id": "-CvjpV9lJ8gF",
        "outputId": "17de6248-4681-48cd-ff8b-a2dfa97dbd8b"
      },
      "outputs": [
        {
          "output_type": "stream",
          "name": "stdout",
          "text": [
            "oo_joke_bot\n",
            "What do you want? joke\n",
            "😁 Why don't scientists trust atoms?\n",
            "Because they make up everything! 🔬\n"
          ]
        }
      ],
      "source": [
        "from _typeshed import StrOrBytesPath\n",
        "print(\"oo_joke_bot\")\n",
        "\n",
        "PROMPT: str = \"What do you want? \"\n",
        "JOKE: str = \"😁 Why don't scientists trust atoms?\\nBecause they make up everything! 🔬\"\n",
        "SORRY: str = \"Sorry, I only tell jokes.\"\n",
        "\n",
        "def main():\n",
        "    user_input = input(PROMPT).strip().lower()\n",
        "    if \"joke\" in user_input:\n",
        "        print(JOKE)\n",
        "    else:\n",
        "        print(SORRY)\n",
        "\n",
        "if __name__ == \"__main__\":\n",
        "    main()\n"
      ]
    },
    {
      "cell_type": "code",
      "source": [
        "print(\"01_double_it\")\n",
        "\n",
        "def main():\n",
        "    user_value = int(input(\"Enter a number: \"))\n",
        "    while user_value < 100:\n",
        "        user_value = user_value * 2\n",
        "        print(user_value)\n",
        "\n",
        "if __name__ == \"__main__\":\n",
        "    main()"
      ],
      "metadata": {
        "colab": {
          "base_uri": "https://localhost:8080/"
        },
        "id": "7GJuoYK3ONt9",
        "outputId": "d16e9095-8120-483a-e1ff-350cd5f4d508"
      },
      "execution_count": null,
      "outputs": [
        {
          "metadata": {
            "tags": null
          },
          "name": "stdout",
          "output_type": "stream",
          "text": [
            "05_double_it\n"
          ]
        }
      ]
    },
    {
      "cell_type": "code",
      "source": [
        "print(\"02_liftoff\")\n",
        "\n",
        "def main():\n",
        "    for i in range(10, 0, -1):\n",
        "        print(i, end=\" \")\n",
        "    print(\"\\nLiftoff!\")\n",
        "\n",
        "if __name__ == \"__main__\":\n",
        "    main()"
      ],
      "metadata": {
        "id": "55w8ugDcQiuB"
      },
      "execution_count": null,
      "outputs": []
    },
    {
      "cell_type": "code",
      "source": [
        "import random\n",
        "\n",
        "print(\"03_guess_my_number.\")\n",
        "\n",
        "def main():\n",
        "    secret_number = random.randint(1, 100)\n",
        "    print(\"I am thinking of a number between 1 and 100...\")\n",
        "\n",
        "    guess = int(input(\"Enter a guess: \"))\n",
        "    while guess != secret_number:\n",
        "        if guess < secret_number:\n",
        "            print(\"Your guess is too low.\")\n",
        "        else:\n",
        "            print(\"Your guess is too high.\")\n",
        "        guess = int(input(\"Enter a guess: \"))\n",
        "\n",
        "    print(f\"Congratulations! The number was {secret_number}.\")\n",
        "\n",
        "if __name__ == \"__main__\":\n",
        "    main()\n",
        "\n",
        "\n"
      ],
      "metadata": {
        "id": "6wxgwteIQwgy"
      },
      "execution_count": null,
      "outputs": []
    },
    {
      "cell_type": "code",
      "source": [
        "print(\"04_random_numbers\")\n",
        "\n",
        "import random  # required to use random.randint\n",
        "\n",
        "def main():\n",
        "    for i in range(10):\n",
        "        print(random.randint(1, 100), end=\" \")\n",
        "\n",
        "if __name__ == \"__main__\":\n",
        "    main()\n"
      ],
      "metadata": {
        "id": "U_K_LDbiRqN9"
      },
      "execution_count": null,
      "outputs": []
    }
  ]
}